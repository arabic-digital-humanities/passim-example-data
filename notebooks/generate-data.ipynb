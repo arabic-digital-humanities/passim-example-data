{
 "cells": [
  {
   "cell_type": "code",
   "execution_count": null,
   "metadata": {},
   "outputs": [],
   "source": [
    "import json\n",
    "import random\n",
    "\n",
    "from faker import Faker\n",
    "\n",
    "def passim_json_line(identifier, series, text):\n",
    "    return json.dumps({'id': 't{}'.format(identifier), 'series': series, 'text': text})\n",
    "\n",
    "fake = Faker()\n",
    "\n",
    "max_sentence_length = 25\n",
    "\n",
    "text = []\n",
    "num_words = 0\n",
    "\n",
    "with open('../data/lorem{}.json'.format(max_sentence_length), 'w', encoding='utf-8') as f:\n",
    "    for i in range(max_sentence_length):\n",
    "        sentence = fake.sentence(nb_words=i+1, variable_nb_words=False, ext_word_list=None)\n",
    "        f.write(passim_json_line(i+1, 'a', sentence))\n",
    "        f.write('\\n')\n",
    "        text.append(sentence)\n",
    "        num_words += i+1\n",
    "    \n",
    "    # shuffle the sentences\n",
    "    random.shuffle(text)\n",
    "    f.write(passim_json_line(num_words, 'b', ' '.join(text)))\n",
    "    f.write('\\n')"
   ]
  },
  {
   "cell_type": "code",
   "execution_count": null,
   "metadata": {},
   "outputs": [],
   "source": [
    "with open('../data/lorem{}-compare_shuffled.json'.format(max_sentence_length), 'w', encoding='utf-8') as f:\n",
    "    f.write(passim_json_line(1, 'b', ' '.join(text)))\n",
    "    f.write('\\n')\n",
    "    \n",
    "    random.shuffle(text)\n",
    "    \n",
    "    f.write(passim_json_line(2, 'a', ' '.join(text)))\n",
    "    f.write('\\n')\n"
   ]
  }
 ],
 "metadata": {
  "language_info": {
   "name": "python",
   "pygments_lexer": "ipython3"
  }
 },
 "nbformat": 4,
 "nbformat_minor": 2
}
