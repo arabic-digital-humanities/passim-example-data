{
 "cells": [
  {
   "cell_type": "code",
   "execution_count": null,
   "metadata": {},
   "outputs": [],
   "source": [
    "import pyarrow.parquet as pq\n",
    "\n",
    "fname = '../out/pairs.parquet'\n",
    "\n",
    "data = pq.read_table(fname)\n",
    "data.to_pandas()"
   ]
  },
  {
   "cell_type": "code",
   "execution_count": null,
   "metadata": {},
   "outputs": [],
   "source": [
    "fname = '../out/out.parquet'\n",
    "\n",
    "data = pq.read_table(fname)\n",
    "data.to_pandas()"
   ]
  },
  {
   "cell_type": "code",
   "execution_count": null,
   "metadata": {},
   "outputs": [],
   "source": [
    "fname = '../out/clusters.parquet'\n",
    "\n",
    "data = pq.read_table(fname)\n",
    "data.to_pandas()"
   ]
  },
  {
   "cell_type": "code",
   "execution_count": null,
   "metadata": {},
   "outputs": [],
   "source": [
    "fname = '../out/align.parquet'\n",
    "\n",
    "dataset = pq.ParquetDataset(fname)\n",
    "table = dataset.read()\n",
    "\n",
    "table.to_pandas()"
   ]
  },
  {
   "cell_type": "code",
   "execution_count": null,
   "metadata": {},
   "outputs": [],
   "source": [
    "df = table.to_pandas()"
   ]
  },
  {
   "cell_type": "code",
   "execution_count": null,
   "metadata": {},
   "outputs": [],
   "source": [
    "print(df.columns)"
   ]
  },
  {
   "cell_type": "code",
   "execution_count": null,
   "metadata": {},
   "outputs": [],
   "source": [
    "df[['id1', 'id2', 'matches', 'score', 'tok2', 'tok1']]"
   ]
  },
  {
   "cell_type": "code",
   "execution_count": null,
   "metadata": {},
   "outputs": [],
   "source": [
    "from tabulate import tabulate\n",
    "\n",
    "headers = ['id1', 'id2', 'matches', 'score', 'tok2', 'tok1']\n",
    "print(tabulate(df[headers], headers, tablefmt=\"pipe\"))"
   ]
  }
 ],
 "metadata": {
  "language_info": {
   "name": "python",
   "pygments_lexer": "ipython3"
  }
 },
 "nbformat": 4,
 "nbformat_minor": 2
}
